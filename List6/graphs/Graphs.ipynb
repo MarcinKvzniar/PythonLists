{
 "cells": [
  {
   "cell_type": "markdown",
   "id": "68a4a77e-eaaf-47db-9946-a9ed711ab4cd",
   "metadata": {},
   "source": [
    "# Graphs"
   ]
  },
  {
   "cell_type": "markdown",
   "id": "9d4d8541-6ffe-44f9-9d5c-7d82c641c042",
   "metadata": {},
   "source": [
    "Graphs are fundamental data structures used to represent relationships between entities. In the realm of computer science and data analysis, graphs provide a powerful way to model and analyse complex systems, such as social networks, transportation networks, and biological pathways. Notebooks, with its interactive environment, is an ideal platform for working with graphs, and the NetworkX library makes it easy to create, manipulate, and visualise graphs in Python [1-2]."
   ]
  },
  {
   "cell_type": "markdown",
   "id": "81d25c08-8356-44b6-a1d2-4d99b9835425",
   "metadata": {},
   "source": [
    "## What is a Graph?\n"
   ]
  },
  {
   "cell_type": "markdown",
   "id": "c814e48d-7743-419d-aedd-d0f0094323a7",
   "metadata": {},
   "source": [
    "In graph theory, a graph is a collection of **nodes (vertices)** and **edges** that connect pairs of nodes. Nodes represent entities, and edges represent relationships between those entities. Graphs can be categorised into **directed and undirected graphs** based on whether the edges have a direction or not. Additionally, graphs may have attributes associated with nodes or edges, adding another layer of complexity and information [1-2].\n",
    "\n"
   ]
  },
  {
   "cell_type": "markdown",
   "id": "40658156-db52-41ba-89ed-ab312cc79779",
   "metadata": {},
   "source": [
    "![Example Image](directed_vs_undirected_graph.png)"
   ]
  },
  {
   "cell_type": "markdown",
   "id": "b33d3d81-0c40-4c92-b5d9-306b743bbd3a",
   "metadata": {},
   "source": [
    "**Weighted graphs**, however, introduce the concept of weights assigned to edges. Each edge in a weighted graph is assigned a numerical value or weight, representing some quantitative measure associated with the relationship between the connected nodes. These weights could represent distances, costs, time, or any other relevant metric depending on the specific application. Weighted graphs allow for more realistic modelling of various real-world scenarios where not all relationships between entities are of equal importance or strength. Algorithms and analyses in weighted graphs often take into account these weights to find optimal paths, minimal spanning trees, or other solutions based on the specific optimisation criteria relevant to the problem at hand [1-2]."
   ]
  },
  {
   "cell_type": "markdown",
   "id": "b643b121-3bd4-4f98-a774-740e96f33d4e",
   "metadata": {},
   "source": [
    "![Weighted graph](weighted_graph.png)"
   ]
  },
  {
   "cell_type": "markdown",
   "id": "12868519-c7b9-49c9-a427-de4539b0bc14",
   "metadata": {},
   "source": [
    "**Degree of a Node**  The degree of a node in a graph is the number of edges incident to it. In directed graphs, nodes have both in-degree (incoming edges) and out-degree (outgoing edges). The degree of a node provides insights into its connectivity within the graph, and nodes with higher degrees often play significant roles in network structures. \n",
    "\n",
    "**Path**: A path in a graph is a sequence of edges that connects a sequence of vertices, allowing traversal from one vertex to another. Paths are fundamental for understanding connectivity and reachability within a graph. They play a crucial role in various applications, such as network routing and analysis.\n",
    "\n",
    "**Cycle**: A cycle is a closed path in a graph, meaning it starts and ends at the same vertex. Cycles are essential in graph theory, and their presence or absence can have significant implications. Graphs without cycles are termed acyclic and are foundational in the study of trees and directed acyclic graphs (DAGs) [1-3].\n",
    "\n",
    "\n"
   ]
  },
  {
   "cell_type": "markdown",
   "id": "4663984d-fd6c-467c-9736-cd7c5a11b613",
   "metadata": {},
   "source": [
    "## How to Create a Graph using NetworkX?"
   ]
  },
  {
   "cell_type": "markdown",
   "id": "a8db730d-7832-4f0d-bcff-751f204a0b6f",
   "metadata": {},
   "source": [
    "NetworkX is a powerful Python library for working with graphs. To create a graph using NetworkX, you first need to install the library if you haven't already:\n",
    "\n"
   ]
  },
  {
   "cell_type": "code",
   "execution_count": 1,
   "id": "02843a27-b755-4640-8a5f-6c873d44af97",
   "metadata": {},
   "outputs": [
    {
     "name": "stdout",
     "output_type": "stream",
     "text": [
      "Requirement already satisfied: networkx in /opt/miniconda3/lib/python3.9/site-packages (3.2.1)\n"
     ]
    }
   ],
   "source": [
    "!pip install networkx"
   ]
  },
  {
   "cell_type": "markdown",
   "id": "66f2dee0-3e4f-4221-8378-322e1d482241",
   "metadata": {},
   "source": [
    "Once installed, you can create a simple undirected graph with the following code:"
   ]
  },
  {
   "cell_type": "code",
   "execution_count": 2,
   "id": "50265551-d611-4ae7-8630-d8f45afb6b9a",
   "metadata": {},
   "outputs": [],
   "source": [
    "import networkx as nx\n",
    "import matplotlib.pyplot as plt\n",
    "%matplotlib inline\n"
   ]
  },
  {
   "cell_type": "code",
   "execution_count": 3,
   "id": "60a12f36-568a-45fe-a9c6-c3dc7f9e7a0c",
   "metadata": {},
   "outputs": [
    {
     "name": "stdout",
     "output_type": "stream",
     "text": [
      "Nodes: [1, 2, 3]\n",
      "Edges: [(1, 2), (2, 3)]\n"
     ]
    }
   ],
   "source": [
    "# Create an undirected graph\n",
    "G = nx.Graph()\n",
    "\n",
    "# Add nodes\n",
    "G.add_nodes_from([1, 2, 3])\n",
    "\n",
    "# Add edges\n",
    "G.add_edges_from([(1, 2), (2, 3)])\n",
    "\n",
    "# Print basic information about the graph\n",
    "print(\"Nodes:\", G.nodes())\n",
    "print(\"Edges:\", G.edges())\n"
   ]
  },
  {
   "cell_type": "markdown",
   "id": "c7d82b02-0860-43fb-8fcc-5c298bad1f5d",
   "metadata": {},
   "source": [
    "This code creates a graph with three nodes (1, 2, and 3) and two edges connecting them. You can easily modify the nodes and edges to match the structure of your specific problem.\n",
    "\n"
   ]
  },
  {
   "cell_type": "markdown",
   "id": "c26f6d17-bb79-48f8-8f5d-2637bc59fa9d",
   "metadata": {},
   "source": [
    "## How to Plot a Graph?"
   ]
  },
  {
   "cell_type": "markdown",
   "id": "a7d16b5c-c8d4-4d66-9d8e-987e72df6ab0",
   "metadata": {},
   "source": [
    "Visualising a graph is essential for gaining insights into its structure. NetworkX provides functionality to draw and visualise graphs using popular plotting libraries like Matplotlib. To plot the graph created above:\n",
    "\n"
   ]
  },
  {
   "cell_type": "code",
   "execution_count": 4,
   "id": "798d4f13-76f0-48d8-a0ac-5fd406aa23ed",
   "metadata": {},
   "outputs": [
    {
     "data": {
      "image/png": "[encoded data removed]",
      "text/plain": [
       "<Figure size 640x480 with 1 Axes>"
      ]
     },
     "metadata": {},
     "output_type": "display_data"
    }
   ],
   "source": [
    "# Plot the graph\n",
    "nx.draw(G, with_labels=True, font_weight='bold')\n",
    "\n",
    "# Display the plot\n",
    "plt.show()\n"
   ]
  },
  {
   "cell_type": "markdown",
   "id": "dcb8cafc-a405-4dd0-9fc3-3cd0a98afd5a",
   "metadata": {},
   "source": [
    "This code uses Matplotlib to visualise the graph, with labels on nodes and bold font for better readability. You can customise the appearance of the graph to suit your needs.\n"
   ]
  },
  {
   "cell_type": "markdown",
   "id": "c59abf6d-fce1-425d-9f00-bb5330687814",
   "metadata": {},
   "source": [
    "### Creation of weighted graph"
   ]
  },
  {
   "cell_type": "code",
   "execution_count": 5,
   "id": "e80c0cb3-35bf-4b63-bc23-beb6d1a820e6",
   "metadata": {},
   "outputs": [
    {
     "data": {
      "image/png": "[encoded data removed]",
      "text/plain": [
       "<Figure size 640x480 with 1 Axes>"
      ]
     },
     "metadata": {},
     "output_type": "display_data"
    }
   ],
   "source": [
    "# Create a weighted graph\n",
    "G = nx.Graph()\n",
    "\n",
    "# Add nodes\n",
    "G.add_nodes_from([\"A\", \"B\", \"C\", \"D\"])\n",
    "\n",
    "# Add weighted edges\n",
    "G.add_edge(\"A\", \"B\", weight=3)\n",
    "G.add_edge(\"B\", \"C\", weight=5)\n",
    "G.add_edge(\"A\", \"D\", weight=2)\n",
    "\n",
    "# Draw the graph\n",
    "pos = nx.spring_layout(G)  # you can use different layout algorithms\n",
    "nx.draw(G, pos, with_labels=True, font_weight='bold', node_size=700, node_color=\"skyblue\")\n",
    "\n",
    "# Add edge labels\n",
    "edge_labels = nx.get_edge_attributes(G, 'weight')\n",
    "nx.draw_networkx_edge_labels(G, pos, edge_labels=edge_labels)\n",
    "\n",
    "# Show the plot\n",
    "plt.show()"
   ]
  },
  {
   "cell_type": "markdown",
   "id": "110531ae-62d9-4e49-97ef-d8a3ccaead08",
   "metadata": {},
   "source": [
    "## Appearance of a graph"
   ]
  },
  {
   "cell_type": "markdown",
   "id": "9a5b8dad-4815-4bdb-b6e7-f00003adce78",
   "metadata": {},
   "source": [
    "In NetworkX, you can customize the appearance of a graph by using various parameters when visualizing it. The nx.draw() function, which is often used for this purpose, accepts a variety of optional parameters to adjust the appearance. Here are some common customization options:\n",
    "\n"
   ]
  },
  {
   "cell_type": "markdown",
   "id": "aa0d33a6-df7f-41d3-85ef-76884422d479",
   "metadata": {},
   "source": [
    "#### Node Color and Size"
   ]
  },
  {
   "cell_type": "code",
   "execution_count": 10,
   "id": "9121c563-7d0e-47ad-95d1-93073eabb284",
   "metadata": {},
   "outputs": [
    {
     "data": {
      "image/png": "[encoded data removed]",
      "text/plain": [
       "<Figure size 640x480 with 1 Axes>"
      ]
     },
     "metadata": {},
     "output_type": "display_data"
    }
   ],
   "source": [
    "G = nx.Graph()\n",
    "G.add_nodes_from([1, 2, 3])\n",
    "G.add_edges_from([(1, 2), (2, 3)])\n",
    "nx.draw(G, with_labels=True, font_weight='bold', node_color='skyblue', node_size=1000)\n",
    "plt.show()\n"
   ]
  },
  {
   "cell_type": "markdown",
   "id": "e5bb80aa-5573-41b9-a173-a156351eac17",
   "metadata": {},
   "source": [
    "#### Edge Color and Width"
   ]
  },
  {
   "cell_type": "code",
   "execution_count": 11,
   "id": "c34943ca-8ee5-4ebd-af3e-3a25c9937afe",
   "metadata": {},
   "outputs": [
    {
     "data": {
      "image/png": "[encoded data removed]",
      "text/plain": [
       "<Figure size 640x480 with 1 Axes>"
      ]
     },
     "metadata": {},
     "output_type": "display_data"
    }
   ],
   "source": [
    "nx.draw(G, with_labels=True, font_weight='bold', edge_color='yellow', width=2)\n",
    "plt.show()"
   ]
  },
  {
   "cell_type": "markdown",
   "id": "397ec28e-9971-4eef-8361-34e92d30f8dc",
   "metadata": {},
   "source": [
    "#### Node Labels"
   ]
  },
  {
   "cell_type": "code",
   "execution_count": 12,
   "id": "9ea07f66-5f2f-4828-ba42-80c705ca8360",
   "metadata": {},
   "outputs": [
    {
     "data": {
      "image/png": "[encoded data removed]",
      "text/plain": [
       "<Figure size 640x480 with 1 Axes>"
      ]
     },
     "metadata": {},
     "output_type": "display_data"
    }
   ],
   "source": [
    "labels = {1: 'A', 2: 'B', 3: 'C'}\n",
    "nx.draw(G, with_labels=True, font_weight='bold', labels=labels)\n",
    "plt.show()"
   ]
  },
  {
   "cell_type": "markdown",
   "id": "a52e09c9-f2fc-4941-b25b-70491f11e3ac",
   "metadata": {},
   "source": [
    "#### Layout"
   ]
  },
  {
   "cell_type": "markdown",
   "id": "ff1b2551-88fa-42a4-8201-1075d51a0ec4",
   "metadata": {},
   "source": [
    "* pos: Use a layout algorithm to determine the positions of nodes. NetworkX provides various options like spring_layout, circular_layout, and random_layout."
   ]
  },
  {
   "cell_type": "code",
   "execution_count": 13,
   "id": "601b4da7-5563-4231-a4fb-fb6a5c807428",
   "metadata": {},
   "outputs": [
    {
     "data": {
      "image/png": "[encoded data removed]",
      "text/plain": [
       "<Figure size 640x480 with 1 Axes>"
      ]
     },
     "metadata": {},
     "output_type": "display_data"
    }
   ],
   "source": [
    "pos = nx.circular_layout(G)\n",
    "nx.draw(G, with_labels=True, font_weight='bold', pos=pos)\n",
    "plt.show()"
   ]
  },
  {
   "cell_type": "markdown",
   "id": "13bb368d-978e-4f70-821d-0adc9ae9e10a",
   "metadata": {},
   "source": [
    "## Advanced Features of NetworkX"
   ]
  },
  {
   "cell_type": "markdown",
   "id": "86123544-1412-4438-ad34-dce4c98fd583",
   "metadata": {},
   "source": [
    "NetworkX offers a plethora of advanced features for graph analysis, manipulation, and algorithms. Let's explore some of the capabilities that extend beyond basic graph creation and visualization.\n",
    "\n"
   ]
  },
  {
   "cell_type": "markdown",
   "id": "a2c61347-6d6f-46f6-bb88-5d8953150298",
   "metadata": {},
   "source": [
    "### Analysing Graph Properties"
   ]
  },
  {
   "cell_type": "markdown",
   "id": "cb9da9b4-c3cc-4f1c-97f1-ed826cc81b2c",
   "metadata": {},
   "source": [
    "#### 1. Degree Distribution\n",
    "**Description**: The degree of a node in a graph is the number of edges connected to it. Degree distribution represents the probability distribution of these degrees across all nodes in the graph.\n",
    "\n",
    "**Significance**: Revealing the degree distribution helps identify the prominence of highly connected nodes (hubs) and provides insights into the overall connectivity pattern of the graph.\n"
   ]
  },
  {
   "cell_type": "code",
   "execution_count": null,
   "id": "c06d907c-b657-49a0-b9c4-62bfb2c943f6",
   "metadata": {},
   "outputs": [],
   "source": [
    "G = nx.Graph()\n",
    "G.add_nodes_from([1, 2, 3, 4])\n",
    "G.add_edges_from([(1, 2), (2, 3), (3, 4), (1,4)])\n",
    "\n",
    "nx.draw(G, with_labels=True, font_weight='bold')\n",
    "\n",
    "# Degree of each node\n",
    "degree = dict(G.degree())\n",
    "print(\"Node Degrees:\", degree)\n"
   ]
  },
  {
   "cell_type": "markdown",
   "id": "5ed4be79-0f84-4c78-998a-e1607f6d9248",
   "metadata": {},
   "source": [
    "#### 2. Graph Connectivity\n",
    "**Description**: Graphs can be connected or disconnected. A connected graph has a path between every pair of nodes, while a disconnected graph consists of separate components.\n",
    "\n",
    "**Significance**: Connectivity analysis helps understand how information or influence can flow through a network. Disconnected components may represent distinct communities or subgraphs.\n",
    "\n"
   ]
  },
  {
   "cell_type": "code",
   "execution_count": null,
   "id": "f84b3cc7-f09d-4101-99ea-fc97a227a9b0",
   "metadata": {},
   "outputs": [],
   "source": [
    "G = nx.Graph()\n",
    "G.add_nodes_from([1, 2, 3, 4])\n",
    "G.add_edges_from([(1, 2), (2, 3)])\n",
    "\n",
    "connected_components = list(nx.connected_components(G))\n",
    "print(\"Connected Components:\", connected_components)"
   ]
  },
  {
   "cell_type": "markdown",
   "id": "3be4066c-7de4-4e64-8b4a-545aa358c1b7",
   "metadata": {},
   "source": [
    "#### 3. Graph Diameter\n",
    "**Description**: The diameter of a graph is the length of the longest shortest path between any pair of nodes. It measures the maximum distance between nodes in the graph.\n",
    "\n",
    "**Significance**: The graph diameter provides an upper bound on the \"reachability\" of the network, indicating the longest time it takes for information to traverse the graph."
   ]
  },
  {
   "cell_type": "code",
   "execution_count": null,
   "id": "c700b45d-f8f6-4f48-b866-6bb1a6015abc",
   "metadata": {},
   "outputs": [],
   "source": [
    "G = nx.Graph()\n",
    "G.add_nodes_from([1, 2, 3, 4])\n",
    "G.add_edges_from([(1, 2), (2, 3), (3, 4), (4, 1)])\n",
    "\n",
    "diameter = nx.diameter(G)\n",
    "print(\"Graph Diameter:\", diameter)"
   ]
  },
  {
   "cell_type": "markdown",
   "id": "584db207-ddae-462c-9573-b6645231f324",
   "metadata": {},
   "source": [
    "#### 4. Clustering Coefficient\n",
    "**Description**: The clustering coefficient measures the tendency of nodes to form clusters or cliques. It quantifies how well-connected a node's neighbors are to each other.\n",
    "\n",
    "**Significance**: High clustering coefficients indicate the presence of tightly connected communities, while low values may suggest a more sparse and decentralized network."
   ]
  },
  {
   "cell_type": "code",
   "execution_count": null,
   "id": "b0ed5d15-ff23-4729-a945-8840d7fab266",
   "metadata": {},
   "outputs": [],
   "source": [
    "G = nx.Graph()\n",
    "G.add_nodes_from([1, 2, 3, 4])\n",
    "G.add_edges_from([(1, 2), (2, 3), (3, 4), (4, 1)])\n",
    "\n",
    "clustering_coefficient = nx.clustering(G)\n",
    "print(\"Clustering Coefficient:\", clustering_coefficient)"
   ]
  },
  {
   "cell_type": "markdown",
   "id": "a5401a4c-a6d9-41b9-aabc-03cd36b3edba",
   "metadata": {},
   "source": [
    "#### 5. Centrality Measures\n",
    "**Description**: Centrality measures identify the importance of nodes within a graph. Common centrality metrics include degree centrality, betweenness centrality, and closeness centrality.\n",
    "\n",
    "**Significance**: Centrality measures help pinpoint nodes that play key roles in information flow, communication, or influence within the network."
   ]
  },
  {
   "cell_type": "code",
   "execution_count": null,
   "id": "133691cb-99f5-43f4-a88e-1a9ed0fccbfa",
   "metadata": {},
   "outputs": [],
   "source": [
    "G = nx.Graph()\n",
    "G.add_nodes_from([1, 2, 3, 4])\n",
    "G.add_edges_from([(1, 2), (2, 3), (3, 4), (4, 1)])\n",
    "\n",
    "degree_centrality = nx.degree_centrality(G)\n",
    "print(\"Degree Centrality:\", degree_centrality)"
   ]
  },
  {
   "cell_type": "markdown",
   "id": "d0749a40-c331-48d4-b509-11fbc0e5bb14",
   "metadata": {},
   "source": [
    "## Graph Algorithms with NetworkX"
   ]
  },
  {
   "cell_type": "markdown",
   "id": "90778df9-b0d2-4155-8a9a-6e92838312c2",
   "metadata": {},
   "source": [
    "#### Shortest Paths\n",
    "The shortest path refers to the most efficient route between two points in a graph or network. It is commonly determined using algorithms like Dijkstra's algorithm or the Bellman-Ford algorithm. These algorithms find the path with the minimum sum of weights (such as distances or costs) between nodes in a graph. The shortest path is widely applied in fields such as computer networking, transportation systems, optimisation problems, and various domains where minimising distance, time, or cost is crucial.\n"
   ]
  },
  {
   "cell_type": "markdown",
   "id": "ece53d5f-9b13-4744-a175-37af6cba2302",
   "metadata": {},
   "source": [
    "##### 1. Breadth-First Search (BFS) \n",
    "\n",
    "**Use Case**: BFS is particularly useful for finding the shortest paths in unweighted graphs or graphs where all edges have the same weight. Its simplicity and efficiency make it well-suited for scenarios where the graph's edges don't carry varying degrees of significance, such as social networks, organizational charts, or simple connectivity problems.\n",
    "\n",
    "\n",
    "\n",
    "**Limitations**: While BFS is effective for unweighted graphs, it has limitations in scenarios involving weighted graphs or graphs with varying edge costs.\n"
   ]
  },
  {
   "cell_type": "markdown",
   "id": "3fb34540-1882-4c48-8ad1-4aed5deeb09b",
   "metadata": {},
   "source": [
    "##### 1.1 How it works?"
   ]
  },
  {
   "cell_type": "markdown",
   "id": "b0f0ad05-cdd2-4a98-8d6b-11784003910d",
   "metadata": {},
   "source": [
    "The BFS method (Breadth First Search) utilizes a data structure called a queue. It is a sequential structure where data is appended at its end, similar to a stack. Reading data occurs sequentially from the beginning of the queue."
   ]
  },
  {
   "cell_type": "markdown",
   "id": "d5e3c4ae-1225-4d48-bff4-e064beaa4664",
   "metadata": {},
   "source": [
    "The operation of the BFS algorithm is as follows:\n",
    "\n",
    "1. Begin graph traversal from a chosen vertex, v.\n",
    "\n",
    "2. Create an empty queue, Q.\n",
    "\n",
    "3. Enqueue vertex v into the queue.\n",
    "\n",
    "4. Mark vertex v as visited.\n",
    "\n",
    "5. While the queue Q is not empty, perform the following operations; otherwise, terminate:\n",
    "\n",
    "    5.1 Dequeue vertex v from the queue.\n",
    "\n",
    "    5.2 Examine all neighbors of v. If a neighbor is not visited, enqueue it into the queue and mark it as visited."
   ]
  },
  {
   "cell_type": "markdown",
   "id": "888ced1b-0275-4e05-8a7e-506a3ae96f4d",
   "metadata": {},
   "source": [
    "#### 1.2 Example [4]"
   ]
  },
  {
   "cell_type": "markdown",
   "id": "50f45752-e4fc-4168-ae08-7b78fa7363f7",
   "metadata": {},
   "source": [
    "We have graph looking like this:"
   ]
  },
  {
   "cell_type": "markdown",
   "id": "5d2bc023-b12f-4ca3-a993-fc46a4ed10e2",
   "metadata": {},
   "source": [
    "<img src=\"image1.png\" alt=\"image1\" width=\"250\" height=\"250\">\n"
   ]
  },
  {
   "cell_type": "markdown",
   "id": "b69524d9-e8f5-4554-a3d4-5eb82ba3f3dd",
   "metadata": {},
   "source": [
    "1. We start from vertex 0. We place the vertex in the queue and mark it as visited.\n",
    "\n",
    "\n",
    "    queue = [<span style=\"color:red\">0</span>] "
   ]
  },
  {
   "cell_type": "markdown",
   "id": "904c91d3-10d7-4ebd-a213-f163ca87f2a1",
   "metadata": {},
   "source": [
    "<img src=\"image2.png\" alt=\"image2\" width=\"200\" height=\"200\">\n"
   ]
  },
  {
   "cell_type": "markdown",
   "id": "e7a86fd3-eb9e-4d73-9547-7fb0e8162def",
   "metadata": {},
   "source": [
    "2. We dequeue vertex 0 from the queue. We examine its neighbors. We enqueue the unvisited neighbors 1, 2, 3, and 4. We mark these vertices as visited to prevent placing the same vertex in the queue again.\n",
    "\n",
    "    queue = [<span style=\"color:red\">1 2 3 4</span>] "
   ]
  },
  {
   "cell_type": "markdown",
   "id": "6b230875-3f75-4146-b9bd-b051a2623973",
   "metadata": {},
   "source": [
    "<img src=\"image4.png\" alt=\"image3\" width=\"200\" height=\"200\">\n"
   ]
  },
  {
   "cell_type": "markdown",
   "id": "eaa167d6-6604-4a04-84ac-867c2c26e0d2",
   "metadata": {},
   "source": [
    "3. We dequeue vertex 1 from the queue. The only unvisited neighbor is vertex 10. We enqueue it and mark it as visited.\n",
    "   \n",
    "    queue = [2 3 4 <span style=\"color:red\">10</span>] "
   ]
  },
  {
   "cell_type": "markdown",
   "id": "8f728c90-f0dc-4362-b663-26d26a52f4fe",
   "metadata": {},
   "source": [
    "<img src=\"image5.png\" alt=\"image4\" width=\"200\" height=\"200\">\n"
   ]
  },
  {
   "cell_type": "markdown",
   "id": "6205757b-99af-4cd9-93b0-35c9c2d459c9",
   "metadata": {},
   "source": [
    "4. We dequeue vertex 2 from the queue. In the queue, we enqueue vertex 5 and mark it as visited.\n",
    "\n",
    "   queue = [3 4 10 <span style=\"color:red\">5</span>] "
   ]
  },
  {
   "cell_type": "markdown",
   "id": "915661ef-4523-4276-bc4a-4ec6de3f15e1",
   "metadata": {},
   "source": [
    "<img src=\"image6.png\" alt=\"image6\" width=\"200\" height=\"200\">\n"
   ]
  },
  {
   "cell_type": "markdown",
   "id": "4f62bc30-33e3-425c-9a4d-313c698af429",
   "metadata": {},
   "source": [
    "5. We dequeue vertex 3 from the queue. We don't add anything to the queue because, at this moment, vertex 3 doesn't have any unvisited neighbors.\n",
    "   \n",
    "      queue = [4 10 5] "
   ]
  },
  {
   "cell_type": "markdown",
   "id": "85fe8d3e-5539-4e19-a451-b5c04a55b445",
   "metadata": {},
   "source": [
    "<img src=\"image7.png\" alt=\"image7\" width=\"200\" height=\"200\">\n"
   ]
  },
  {
   "cell_type": "markdown",
   "id": "780fa181-28b7-4bd7-9845-6fd9015a77f6",
   "metadata": {},
   "source": [
    "6. We dequeue vertex 4 from the queue. To the queue, we add its two unvisited neighbors: 6 and 7. We mark these vertices as visited.\n",
    "\n",
    "      queue = [10 5 <span style=\"color:red\">6 7</span>] "
   ]
  },
  {
   "cell_type": "markdown",
   "id": "aae9b336-f61e-48ca-889f-688de35b625f",
   "metadata": {},
   "source": [
    "<img src=\"image8.png\" alt=\"image8\" width=\"200\" height=\"200\">\n"
   ]
  },
  {
   "cell_type": "markdown",
   "id": "c19f7aa3-af3a-4875-99e9-afb7942e3adc",
   "metadata": {},
   "source": [
    "7. We dequeue vertex 10 from the queue. In the queue, we enqueue its neighbors 8 and 11. We mark them as visited.\n",
    "\n",
    "   queue = [5 6 7 <span style=\"color:red\">8 11</span>] "
   ]
  },
  {
   "cell_type": "markdown",
   "id": "4a117a6e-c68d-4fca-981e-7fcca0620779",
   "metadata": {},
   "source": [
    "<img src=\"image9.png\" alt=\"image9\" width=\"200\" height=\"200\">\n"
   ]
  },
  {
   "cell_type": "markdown",
   "id": "303506d7-f50c-4e6e-ad04-768459d53f41",
   "metadata": {},
   "source": [
    "8. We dequeue vertex 5 from the queue. In the queue, we enqueue its neighbor 9. We mark it as visited.\n",
    "\n",
    "   queue = [6 7 8 11 <span style=\"color:red\">9</span>] "
   ]
  },
  {
   "cell_type": "markdown",
   "id": "c5158888-4cd0-49dc-963e-9a34ad755b2e",
   "metadata": {},
   "source": [
    "<img src=\"image10.png\" alt=\"image10\" width=\"200\" height=\"200\">\n",
    "    "
   ]
  },
  {
   "cell_type": "markdown",
   "id": "2644c76d-f0a8-46a4-9db0-bbdeb7d2f076",
   "metadata": {},
   "source": [
    "9. We dequeue vertices 6, 7, and 8 from the queue. We don't add anything - there are no unvisited neighbors.\n",
    "\n",
    "   queue = [11 9] "
   ]
  },
  {
   "cell_type": "markdown",
   "id": "d540fb62-4c28-4023-a85b-38ca2e3cbcae",
   "metadata": {},
   "source": [
    "<img src=\"image11.png\" alt=\"image11\" width=\"200\" height=\"200\">\n"
   ]
  },
  {
   "cell_type": "markdown",
   "id": "56086621-3f0a-4cc0-a9c8-5a442061f175",
   "metadata": {},
   "source": [
    "10. We dequeue vertex 11 from the queue. We add its neighbor 12 to the queue and mark it as visited.\n",
    "\n",
    "       queue = [9 <span style=\"color:red\">12</span>] "
   ]
  },
  {
   "cell_type": "markdown",
   "id": "dbac8756-984a-4edb-b7ca-c2189cd59dc8",
   "metadata": {},
   "source": [
    "<img src=\"image12.png\" alt=\"image12\" width=\"200\" height=\"200\">\n"
   ]
  },
  {
   "cell_type": "markdown",
   "id": "a92768cc-01f6-4f17-bd04-62d63b7c34af",
   "metadata": {},
   "source": [
    "11. We dequeue vertex 9 from the queue. We add its neighbor 13 to the queue and mark it as visited. The graph traversal is complete because, from this point onward, there are no unvisited vertices in the graph, and BFS will only read vertices 12 and 13 from the queue. After this operation, the queue becomes empty, and the algorithm concludes its execution.\n",
    "\n",
    "    queue = [12 13] "
   ]
  },
  {
   "cell_type": "markdown",
   "id": "a8d97946-66f3-4215-bd9a-c9c9e52fd494",
   "metadata": {},
   "source": [
    "<img src=\"image13.png\" alt=\"image13\" width=\"200\" height=\"200\">\n"
   ]
  },
  {
   "cell_type": "markdown",
   "id": "e6a2952f-a3c4-4da6-a862-9bf50192dd42",
   "metadata": {},
   "source": [
    "12. BFS traversal creates a spanning tree. Note that it has a very interesting property. All vertices of this tree are connected to the starting vertex by the shortest paths (with the smallest number of edges). Due to this property, BFS is often used for finding the shortest paths in a graph.\n",
    "\n",
    "\n",
    "\n",
    "\n",
    "\n",
    "\n",
    "\n"
   ]
  },
  {
   "cell_type": "markdown",
   "id": "72d42905-889b-4a3a-a51c-cf3275a58162",
   "metadata": {},
   "source": [
    "\n",
    "<img src=\"image14.png\" alt=\"image14\" width=\"200\" height=\"200\">\n"
   ]
  },
  {
   "cell_type": "markdown",
   "id": "f8efd6c5-6eb0-4070-8e8e-f34a03f022d2",
   "metadata": {},
   "source": [
    "##### 2. Dijkstra's Algorithm\n",
    "\n",
    "**Use Case**: Ideal for finding the shortest path in weighted graphs with non-negative edge weights.\n",
    "\n",
    "**Limitations**: Assumes non-negative weights; may not work well with graphs containing negative weights or cycles with negative total weight.\n"
   ]
  },
  {
   "cell_type": "code",
   "execution_count": null,
   "id": "e364f22d-e764-4393-b831-d7666fc5c11d",
   "metadata": {},
   "outputs": [],
   "source": [
    "G = nx.Graph()\n",
    "G.add_nodes_from([1, 2, 3, 4])\n",
    "G.add_edges_from([(1, 2, {'weight': 1}), (2, 3, {'weight': 2}), (3, 4, {'weight': 1}), (4, 1, {'weight': 3}), (1, 3, {'weight':8})])\n",
    "pos = nx.circular_layout(G)\n",
    "nx.draw(G, pos, with_labels=True, font_weight='bold')\n",
    "edge_labels = nx.get_edge_attributes(G, 'weight')\n",
    "nx.draw_networkx_edge_labels(G, pos, edge_labels=edge_labels)\n",
    "\n",
    "shortest_path = nx.shortest_path(G, source=1, target=3, weight='weight')\n",
    "print(\"Shortest Path:\", shortest_path)"
   ]
  },
  {
   "cell_type": "markdown",
   "id": "5994f3e6-cc7b-430a-abd8-84d9623904eb",
   "metadata": {},
   "source": [
    "# Task"
   ]
  },
  {
   "cell_type": "markdown",
   "id": "8607c763-32c0-45e1-893d-6f880e9daf7b",
   "metadata": {},
   "source": [
    "1. Develop a Breadth-First Search (BFS) algorithm to determine the shortest path between two nodes, utilising the NetworkX library in Python. Create a specialized BFS function, bfs_shortest_path, designed to receive the graph, start node, and end node as parameters. The objective is to return the shortest path between the specified start and end nodes.\n",
    "Visualize the graph using NetworkX to enhance your understanding of its structure. Additionally, plot the identified shortest path with red-colored edges for clear visualization. This will provide a visual representation of the traversed path.\n",
    "\n",
    "2. Implement a program in Python that allows users to input data for creating a weighted graph. Nodes in this graph represent cities, and the user will provide the number of nodes, names for each node (city), connections between cities, and the distances of the routes, and specify the cities between which the program will find the shortest path using Dijkstra's Algorithm. Visualize the graph using NetworkX to enhance your understanding of its structure. Additionally, plot the identified shortest path with red-colored edges for clear visualization. This will provide a visual representation of the traversed path.\n",
    "\n",
    "\n"
   ]
  },
  {
   "cell_type": "markdown",
   "id": "3d0459e8-e3da-4cbc-aeb6-5691c769bf02",
   "metadata": {},
   "source": [
    "### Bibliography"
   ]
  },
  {
   "cell_type": "markdown",
   "id": "905ed640-3120-48cb-8a7f-ca043b8c4600",
   "metadata": {},
   "source": [
    "[1] Gary Hutson, Matt Jackson, Graph Data Modeling in Python, 2023, Published by Packt Publishing Ltd.\n",
    "\n",
    "[2] Basant Agarwal, Hands-On Data Structures and Algorithms with Python - Third Edition, 2022, Published by Packt Publishing Ltd.\n",
    "\n",
    "[3] John Canning, Alan Broder, Robert Lafore, Data Structures & Algorithms in Python, 2022, Published by Packt Publishing Ltd.\n",
    "\n",
    "[4] Example is fully taken from website https://eduinf.waw.pl/inf/utils/011_2011/0105.php"
   ]
  }
 ],
 "metadata": {
  "kernelspec": {
   "display_name": "Python 3 (ipykernel)",
   "language": "python",
   "name": "python3"
  },
  "language_info": {
   "codemirror_mode": {
    "name": "ipython",
    "version": 3
   },
   "file_extension": ".py",
   "mimetype": "text/x-python",
   "name": "python",
   "nbconvert_exporter": "python",
   "pygments_lexer": "ipython3",
   "version": "3.9.16"
  }
 },
 "nbformat": 4,
 "nbformat_minor": 5
}
